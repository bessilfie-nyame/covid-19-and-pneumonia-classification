{
 "cells": [
  {
   "cell_type": "code",
   "execution_count": null,
   "id": "305514ae",
   "metadata": {},
   "outputs": [],
   "source": [
    "import tensorflow as tf\n",
    "from tensorflow import keras\n",
    "from tensorflow.keras.models import Sequential\n",
    "from tensorflow.keras.preprocessing.image import ImageDataGenerator\n",
    "\n",
    "from tensorflow.keras.callbacks import EarlyStopping\n",
    "from tensorflow.keras import layers\n",
    "\n",
    "import matplotlib.pyplot as plt\n",
    "import app"
   ]
  },
  {
   "cell_type": "code",
   "execution_count": null,
   "id": "d9538318",
   "metadata": {},
   "outputs": [],
   "source": [
    "BATCH_SIZE = 32"
   ]
  },
  {
   "cell_type": "code",
   "execution_count": null,
   "id": "6051aa9a",
   "metadata": {},
   "outputs": [],
   "source": [
    "train_data_gen = ImageDataGenerator(rescale=1./255,\n",
    "        zoom_range=0.2,\n",
    "        rotation_range=15,\n",
    "        width_shift_range=0.05,\n",
    "        height_shift_range=0.05)\n",
    "\n",
    "print(\"\\nLoading training data...\")\n",
    "train_generator = train_data_gen.flow_from_directory('augmented-data/train', target_size=(256, 256),\n",
    "class_mode='categorical', color_mode='grayscale',batch_size=BATCH_SIZE)\n",
    "\n",
    "test_data_gen = ImageDataGenerator(rescale=1.0/255)\n",
    "\n",
    "print(\"\\nLoading validation data...\")\n",
    "test_generator = test_data_gen.flow_from_directory('augmented-data/test', target_size=(256, 256),class_mode='categorical',color_mode='grayscale',batch_size=BATCH_SIZE)"
   ]
  },
  {
   "cell_type": "code",
   "execution_count": null,
   "id": "08e62b8a",
   "metadata": {},
   "outputs": [],
   "source": [
    "def build_model():\n",
    "    model = Sequential()\n",
    "    model.add(tf.keras.Input(shape=(256, 256, 1)))\n",
    "    model.add(tf.keras.layers.Conv2D(2, 5, strides=3, activation=\"relu\")) \n",
    "    model.add(tf.keras.layers.MaxPooling2D(\n",
    "      pool_size=(5, 5), strides=(5,5)))\n",
    "    model.add(tf.keras.layers.Conv2D(4, 3, strides=1, activation=\"relu\")) \n",
    "    model.add(tf.keras.layers.MaxPooling2D(\n",
    "      pool_size=(2,2), strides=(2,2)))\n",
    "    model.add(tf.keras.layers.Flatten())\n",
    "    model.add(tf.keras.layers.Dense(3,activation=\"softmax\"))\n",
    "    return model"
   ]
  },
  {
   "cell_type": "code",
   "execution_count": null,
   "id": "3e482111",
   "metadata": {},
   "outputs": [],
   "source": [
    "model = build_model() \n",
    "print(\"\\nBuilding model...\")\n",
    "model.summary()"
   ]
  },
  {
   "cell_type": "code",
   "execution_count": null,
   "id": "bc95b464",
   "metadata": {},
   "outputs": [],
   "source": [
    "OPTIMIZER = tf.keras.optimizers.Adam(learning_rate=0.001)\n",
    "LOSS = tf.keras.losses.CategoricalCrossentropy() \n",
    "\n",
    "print(\"\\nCompiling model...\")\n",
    "model.compile(\n",
    "   optimizer=OPTIMIZER,\n",
    "   loss=LOSS,\n",
    "   metrics=[tf.keras.metrics.CategoricalAccuracy(),tf.keras.metrics.AUC()]\n",
    ")"
   ]
  },
  {
   "cell_type": "code",
   "execution_count": null,
   "id": "bb1bdbe6",
   "metadata": {},
   "outputs": [],
   "source": [
    "print(\"\\nTraining model...\")\n",
    "history = model.fit(\n",
    "       train_generator,\n",
    "       steps_per_epoch=train_generator.samples/BATCH_SIZE,\n",
    "       epochs=5,\n",
    "       validation_data=test_generator,\n",
    "       validation_steps=test_generator.samples/BATCH_SIZE\n",
    "       )"
   ]
  },
  {
   "cell_type": "code",
   "execution_count": null,
   "id": "a4a4ed1c",
   "metadata": {},
   "outputs": [],
   "source": []
  }
 ],
 "metadata": {
  "kernelspec": {
   "display_name": "Python 3",
   "language": "python",
   "name": "python3"
  },
  "language_info": {
   "codemirror_mode": {
    "name": "ipython",
    "version": 3
   },
   "file_extension": ".py",
   "mimetype": "text/x-python",
   "name": "python",
   "nbconvert_exporter": "python",
   "pygments_lexer": "ipython3",
   "version": "3.8.5"
  }
 },
 "nbformat": 4,
 "nbformat_minor": 5
}
